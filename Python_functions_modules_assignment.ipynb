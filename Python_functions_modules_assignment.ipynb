{
 "cells": [
  {
   "cell_type": "code",
   "execution_count": 19,
   "metadata": {},
   "outputs": [
    {
     "data": {
      "text/plain": [
       "20"
      ]
     },
     "execution_count": 19,
     "metadata": {},
     "output_type": "execute_result"
    }
   ],
   "source": [
    "# Python Assignment 3 - Functions and Modules\n",
    "# Problem Statement 1\n",
    "\n",
    "## Write a Python function to sum all the numbers in a list.\n",
    "\n",
    "### Sample List : (8, 2, 3, 0, 7)\n",
    "### Expected Output : 20\n",
    "### Explanation:\n",
    "### Summation should like 8+2+3+0+7 = 20\n",
    "\n",
    "#### Method 1 using inbuilt function\n",
    "\n",
    "def list_summation_m1(input_list):\n",
    "    \"\"\"Function to get the sum of elements in a list\"\"\"\n",
    "    return sum(input_list)\n",
    "\n",
    "sample_data = (8, 2, 3, 0, 7)\n",
    "list_summation_alt(list(sample_data))\n",
    "\n",
    "#### Method 2 without using inbuilt function\n",
    "\n",
    "def list_summation_m2(input_list):\n",
    "    \"\"\"Function to get the sum of elements in a list\"\"\"\n",
    "    list_sum = 0\n",
    "    for i in input_list:\n",
    "        list_sum+=i\n",
    "    return list_sum\n",
    "\n",
    "sample_data = (8, 2, 3, 0, 7)\n",
    "list_summation(list(sample_data))"
   ]
  },
  {
   "cell_type": "code",
   "execution_count": 13,
   "metadata": {},
   "outputs": [
    {
     "data": {
      "text/plain": [
       "'dcba4321'"
      ]
     },
     "execution_count": 13,
     "metadata": {},
     "output_type": "execute_result"
    }
   ],
   "source": [
    "# Python Assignment 3 - Functions and Modules\n",
    "# Problem Statement 2\n",
    "\n",
    "## Write a Python program to reverse a string.\n",
    "\n",
    "### Sample String : \"1234abcd\"\n",
    "### Expected Output : \"dcba4321\"\n",
    "\n",
    "def string_reversal(inp_str):\n",
    "    \"\"\"Function to reverse a string\"\"\"\n",
    "    return inp_str[::-1]\n",
    "\n",
    "string_reversal(\"1234abcd\")"
   ]
  },
  {
   "cell_type": "code",
   "execution_count": 31,
   "metadata": {},
   "outputs": [
    {
     "name": "stdout",
     "output_type": "stream",
     "text": [
      "No. of Upper case characters : 3\n",
      "No. of Lower case characters : 12\n"
     ]
    }
   ],
   "source": [
    "# Python Assignment 3 - Functions and Modules\n",
    "# Problem Statement 3\n",
    "\n",
    "## Write a Python function that accepts a string and calculate the number of upper case letters and lower case letters.\n",
    "\n",
    "### Sample String : 'The quick Brow Fox'\n",
    "### Expected Output :\n",
    "### No. of Upper case characters : 3\n",
    "### No. of Lower case Characters : 12\n",
    "\n",
    "def count_upper_lower_case(inp_str):\n",
    "    \"\"\"Function to count upper and lower case characters in a string\"\"\"\n",
    "    num_upper = 0\n",
    "    num_lower = 0\n",
    "    for c in inp_str:\n",
    "        if c.isupper():\n",
    "            num_upper+=1\n",
    "        elif c.islower():\n",
    "            num_lower+=1\n",
    "    return num_upper,num_lower\n",
    "\n",
    "num_upper,num_lower = count_upper_lower_case(\"The quick Brow Fox\")\n",
    "print(f\"No. of Upper case characters : {num_upper}\")\n",
    "print(f\"No. of Lower case characters : {num_lower}\")"
   ]
  }
 ],
 "metadata": {
  "kernelspec": {
   "display_name": "Python 3",
   "language": "python",
   "name": "python3"
  },
  "language_info": {
   "codemirror_mode": {
    "name": "ipython",
    "version": 3
   },
   "file_extension": ".py",
   "mimetype": "text/x-python",
   "name": "python",
   "nbconvert_exporter": "python",
   "pygments_lexer": "ipython3",
   "version": "3.7.6"
  }
 },
 "nbformat": 4,
 "nbformat_minor": 4
}
