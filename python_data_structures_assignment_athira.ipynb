{
 "cells": [
  {
   "cell_type": "code",
   "execution_count": 5,
   "metadata": {},
   "outputs": [
    {
     "name": "stdout",
     "output_type": "stream",
     "text": [
      "['phone.jpg', 'view.jpg', 'bear.jpg']\n"
     ]
    }
   ],
   "source": [
    "# Inbuilt Data Structures Assignment\n",
    "## Basic Coding Questions\n",
    "\n",
    "### Problem Statement 1\n",
    "filenames = ['view.jpg','bear.jpg','ball.png']\n",
    "filenames.insert(0,'phone.jpg')\n",
    "filenames.remove('ball.png')\n",
    "print(filenames)"
   ]
  },
  {
   "cell_type": "code",
   "execution_count": 29,
   "metadata": {},
   "outputs": [
    {
     "name": "stdout",
     "output_type": "stream",
     "text": [
      "Min:1, Max:10, Avg:5.5\n"
     ]
    }
   ],
   "source": [
    "# Inbuilt Data Structures Assignment\n",
    "## Basic Coding Questions\n",
    "\n",
    "### Problem Statement 2\n",
    "L = [1,2,3,4,5,6,7,8,9,10]\n",
    "L.sort()\n",
    "min_num = L[0]\n",
    "max_num = L[-1]\n",
    "sum_nums = 0\n",
    "for i in L:\n",
    "    sum_nums+=i\n",
    "avg_list = sum_nums/len(L)\n",
    "print(\"Min:{}, Max:{}, Avg:{}\".format(min_num,max_num,avg_list))     "
   ]
  },
  {
   "cell_type": "code",
   "execution_count": 51,
   "metadata": {},
   "outputs": [
    {
     "name": "stdout",
     "output_type": "stream",
     "text": [
      "[1, 2, 3, 4, 5]\n"
     ]
    }
   ],
   "source": [
    "# Inbuilt Data Structures Assignment\n",
    "## Intermediate Coding Questions\n",
    "\n",
    "### Problem Statement 1\n",
    "L = [1,1,1,1,2,2,3,3,3,3,4,5]\n",
    "L2 = []\n",
    "for item in L:\n",
    "    if item not in L2:\n",
    "        L2.append(item)\n",
    "print(L2)"
   ]
  },
  {
   "cell_type": "code",
   "execution_count": 55,
   "metadata": {},
   "outputs": [
    {
     "name": "stdout",
     "output_type": "stream",
     "text": [
      "Enter a number: 4\n",
      "Input number: 4 exists in inner-list: [4, 3]\n"
     ]
    }
   ],
   "source": [
    "# Inbuilt Data Structures Assignment\n",
    "## Intermediate Coding Questions\n",
    "\n",
    "### Problem Statement 2\n",
    "L = [1,2,3,4,[4,3]]\n",
    "num_in = int(input(\"Enter a number: \"))\n",
    "if num_in in L[4]:\n",
    "    print(\"Input number: {} exists in inner-list: {}\".format(num_in,L[4]))\n",
    "else:\n",
    "    print(\"Input number: {} does not exist in inner-list: {}\".format(num_in,L[4]))"
   ]
  },
  {
   "cell_type": "code",
   "execution_count": 62,
   "metadata": {},
   "outputs": [
    {
     "name": "stdout",
     "output_type": "stream",
     "text": [
      "[1, 2, 3, 5, 1, 2, 1]\n"
     ]
    }
   ],
   "source": [
    "# Inbuilt Data Structures Assignment\n",
    "## Advanced Coding Questions\n",
    "\n",
    "### Problem Statement 1\n",
    "numbers_nested = [[1,-1,2],[0,-5,3,5,-2],[1,2,1,0,-2,-3]]\n",
    "L2 = []\n",
    "for item in numbers_nested:\n",
    "    for subitem in item:\n",
    "        if subitem > 0:\n",
    "            L2.append(subitem)\n",
    "print(L2)"
   ]
  },
  {
   "cell_type": "code",
   "execution_count": 69,
   "metadata": {},
   "outputs": [
    {
     "name": "stdout",
     "output_type": "stream",
     "text": [
      "Avg of list item: [1, 2, 3] is: 2.0\n",
      "Avg of list item: [4, 5, 6, 3] is: 4.5\n",
      "Avg of list item: [-1, -2, -10, 5, 8] is: 0.0\n",
      "Sum of avgerage of list items is: 6.5\n"
     ]
    }
   ],
   "source": [
    "# Inbuilt Data Structures Assignment\n",
    "## Advanced Coding Questions\n",
    "\n",
    "### Problem Statement 2\n",
    "L = [[1,2,3],[4,5,6,3],[-1,-2,-10,5,8]]\n",
    "sum_of_item_avg = 0\n",
    "\n",
    "for item in L:\n",
    "    avg_item = sum(item)/len(item)\n",
    "    print(\"Average of list item: {} is: {}\".format(item,avg_item))\n",
    "    sum_of_item_avg+=avg_item\n",
    "    \n",
    "print(\"Sum of average of list items is: {}\".format(sum_of_item_avg))"
   ]
  }
 ],
 "metadata": {
  "kernelspec": {
   "display_name": "Python 3",
   "language": "python",
   "name": "python3"
  },
  "language_info": {
   "codemirror_mode": {
    "name": "ipython",
    "version": 3
   },
   "file_extension": ".py",
   "mimetype": "text/x-python",
   "name": "python",
   "nbconvert_exporter": "python",
   "pygments_lexer": "ipython3",
   "version": "3.7.6"
  }
 },
 "nbformat": 4,
 "nbformat_minor": 4
}
